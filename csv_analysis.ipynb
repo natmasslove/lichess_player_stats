{
 "cells": [
  {
   "cell_type": "markdown",
   "metadata": {},
   "source": [
    "## Load CSV Data into a Pandas DataFrame"
   ]
  },
  {
   "cell_type": "code",
   "execution_count": 37,
   "metadata": {},
   "outputs": [],
   "source": [
    "import pandas as pd\n",
    "# Load the CSV file\n",
    "df = pd.read_csv(\"output/games.csv\")"
   ]
  },
  {
   "cell_type": "markdown",
   "metadata": {},
   "source": [
    "## Rating change by TimeControl"
   ]
  },
  {
   "cell_type": "code",
   "execution_count": null,
   "metadata": {},
   "outputs": [],
   "source": [
    "rating_change_summary = df.groupby(['Variant', 'TimeControl']).agg(\n",
    "    RatingChange=('PlayerRatingChange', 'sum'),\n",
    "    GamesCount=('PlayerRatingChange', 'count'),\n",
    "    Wins=('ResultWin', 'sum'),\n",
    "    Draws=('ResultDraw', 'sum'),\n",
    "    Loses=('ResultLose', 'sum'),\n",
    ").reset_index()\n",
    "display(rating_change_summary)\n"
   ]
  },
  {
   "cell_type": "markdown",
   "metadata": {},
   "source": [
    "## Rating change by Color"
   ]
  },
  {
   "cell_type": "code",
   "execution_count": null,
   "metadata": {},
   "outputs": [],
   "source": [
    "rating_change_color = df.groupby(['Color','TimeControl']).agg(\n",
    "    RatingChange=('PlayerRatingChange', 'sum'),\n",
    "    GamesCount=('PlayerRatingChange', 'count'),\n",
    "    Wins=('ResultWin', 'sum'),\n",
    "    Draws=('ResultDraw', 'sum'),\n",
    "    Loses=('ResultLose', 'sum'),\n",
    ").reset_index()\n",
    "display(rating_change_color)"
   ]
  },
  {
   "cell_type": "markdown",
   "metadata": {},
   "source": [
    "## My White Openings"
   ]
  },
  {
   "cell_type": "code",
   "execution_count": null,
   "metadata": {},
   "outputs": [],
   "source": [
    "df_white = df[df['Color'] == 'White'].copy()\n",
    "df_white['OpeningVariation'] = df_white['OpeningVariation'].fillna(\"\")\n",
    "df_white['OpeningSubVariation'] = df_white['OpeningSubVariation'].fillna(\"\")\n",
    "\n",
    "white_opening_analysis = df_white.groupby('OpeningFamily').agg(\n",
    "    RatingChange=('PlayerRatingChange', 'sum'),\n",
    "    GamesCount=('PlayerRatingChange', 'count')\n",
    ").reset_index().sort_values(by=\"RatingChange\", ascending=True)\n",
    "display(white_opening_analysis)"
   ]
  },
  {
   "cell_type": "markdown",
   "metadata": {},
   "source": [
    "## White Openings + Variations"
   ]
  },
  {
   "cell_type": "code",
   "execution_count": null,
   "metadata": {},
   "outputs": [],
   "source": [
    "white_opening_analysis = df_white.groupby(['OpeningFamily','OpeningVariation','OpeningSubVariation']).agg(\n",
    "    RatingChange=('PlayerRatingChange', 'sum'),\n",
    "    GamesCount=('PlayerRatingChange', 'count')\n",
    ").reset_index().sort_values(by=\"RatingChange\", ascending=True)\n",
    "display(white_opening_analysis)"
   ]
  },
  {
   "cell_type": "markdown",
   "metadata": {},
   "source": [
    "## Black Openings"
   ]
  },
  {
   "cell_type": "code",
   "execution_count": null,
   "metadata": {},
   "outputs": [],
   "source": [
    "df_black = df[df['Color'] == 'Black'].copy()\n",
    "df_black['OpeningVariation'] = df_black['OpeningVariation'].fillna(\"\")\n",
    "df_black['OpeningSubVariation'] = df_black['OpeningSubVariation'].fillna(\"\")\n",
    "\n",
    "white_opening_analysis = df_black.groupby('OpeningFamily').agg(\n",
    "    RatingChange=('PlayerRatingChange', 'sum'),\n",
    "    GamesCount=('PlayerRatingChange', 'count')\n",
    ").reset_index().sort_values(by=\"RatingChange\", ascending=True)\n",
    "display(white_opening_analysis)"
   ]
  },
  {
   "cell_type": "markdown",
   "metadata": {},
   "source": [
    "## Black Openings + Variations"
   ]
  },
  {
   "cell_type": "code",
   "execution_count": null,
   "metadata": {},
   "outputs": [],
   "source": [
    "white_opening_analysis = df_black.groupby(['OpeningFamily','OpeningVariation','OpeningSubVariation']).agg(\n",
    "    RatingChange=('PlayerRatingChange', 'sum'),\n",
    "    GamesCount=('PlayerRatingChange', 'count')\n",
    ").reset_index().sort_values(by=\"RatingChange\", ascending=True)\n",
    "display(white_opening_analysis.head(20))"
   ]
  },
  {
   "cell_type": "markdown",
   "metadata": {},
   "source": [
    "## Games against Titled Players"
   ]
  },
  {
   "cell_type": "code",
   "execution_count": null,
   "metadata": {},
   "outputs": [],
   "source": [
    "# Filter games where the opponent has a title (i.e., OpponentTitle is not empty)\n",
    "df_titled_opponents = df[df['OpponentTitle'].notna() & (df['OpponentTitle'] != \"\")]\n",
    "\n",
    "# Group by 'OpponentTitle' and calculate statistics\n",
    "titled_opponent_stats = df_titled_opponents.groupby('OpponentTitle').agg(\n",
    "    RatingChange=('PlayerRatingChange', 'sum'),\n",
    "    GamesCount=('PlayerRatingChange', 'count'),\n",
    "    Wins=('ResultWin', 'sum'),\n",
    "    Draws=('ResultDraw', 'sum'),\n",
    "    Losses=('ResultLose', 'sum'),\n",
    "    PtsPercentage=('Result', lambda x: round(x.mean() * 100, 1)) \n",
    ").reset_index().sort_values(by=\"OpponentTitle\")\n",
    "\n",
    "display(titled_opponent_stats)"
   ]
  }
 ],
 "metadata": {
  "kernelspec": {
   "display_name": ".venv",
   "language": "python",
   "name": "python3"
  },
  "language_info": {
   "codemirror_mode": {
    "name": "ipython",
    "version": 3
   },
   "file_extension": ".py",
   "mimetype": "text/x-python",
   "name": "python",
   "nbconvert_exporter": "python",
   "pygments_lexer": "ipython3",
   "version": "3.13.1"
  }
 },
 "nbformat": 4,
 "nbformat_minor": 2
}
