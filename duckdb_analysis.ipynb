{
 "cells": [
  {
   "cell_type": "code",
   "execution_count": null,
   "metadata": {},
   "outputs": [],
   "source": [
    "# install duckdb\n",
    "!pip install duckdb"
   ]
  },
  {
   "cell_type": "code",
   "execution_count": null,
   "metadata": {},
   "outputs": [],
   "source": [
    "# export data to games.parquet file (put your username and required data in command line params)\n",
    "# parquet is not required (you can still use csv), here for simplicity, size and eficiency\n",
    "!python export_games.py --username=masslove --perf-type=blitz --start-date=2025-02-05 --end-date=2025-02-07 --format=parquet --filename=games"
   ]
  },
  {
   "cell_type": "code",
   "execution_count": 35,
   "metadata": {},
   "outputs": [],
   "source": [
    "import duckdb\n",
    "games_pq = duckdb.read_parquet(\"output/games.parquet\")"
   ]
  },
  {
   "cell_type": "code",
   "execution_count": null,
   "metadata": {},
   "outputs": [],
   "source": [
    "# Stats by time control\n",
    "sql = \"\"\"\n",
    "  SELECT Variant, TimeControl\n",
    "       , sum(PlayerRatingChange) as RatingChange, count(*) as GamesCount\n",
    "       , sum(ResultWin) as Wins, sum(ResultDraw) as Draws, sum(ResultLose) as Loses\n",
    "    FROM games_pq\n",
    "   GROUP BY Variant, TimeControl \n",
    "\"\"\"\n",
    "duckdb.sql(sql)"
   ]
  },
  {
   "cell_type": "code",
   "execution_count": null,
   "metadata": {},
   "outputs": [],
   "source": [
    "# Stats by Color\n",
    "sql = \"\"\"\n",
    "  SELECT Color, TimeControl\n",
    "       , sum(PlayerRatingChange) as RatingChange, count(*) as GamesCount\n",
    "       , sum(ResultWin) as Wins, sum(ResultDraw) as Draws, sum(ResultLose) as Loses\n",
    "    FROM games_pq\n",
    "   GROUP BY Color, TimeControl \n",
    "   ORDER BY Color, TimeControl \n",
    "\"\"\"\n",
    "duckdb.sql(sql)"
   ]
  },
  {
   "cell_type": "code",
   "execution_count": null,
   "metadata": {},
   "outputs": [],
   "source": [
    "# Opening Stats (White)\n",
    "sql = \"\"\"\n",
    "  SELECT OpeningFamily\n",
    "       , sum(PlayerRatingChange) as RatingChange, count(*) as GamesCount\n",
    "       , sum(ResultWin) as Wins, sum(ResultDraw) as Draws, sum(ResultLose) as Loses\n",
    "    FROM games_pq\n",
    "   WHERE color = 'White' \n",
    "   GROUP BY OpeningFamily\n",
    "   ORDER BY sum(PlayerRatingChange)\n",
    "\"\"\"\n",
    "duckdb.sql(sql)"
   ]
  },
  {
   "cell_type": "code",
   "execution_count": null,
   "metadata": {},
   "outputs": [],
   "source": [
    "# Opening Stats (White), including Variation and SubVariations\n",
    "sql = \"\"\"\n",
    "  SELECT OpeningFamily, OpeningVariation, OpeningSubvariation\n",
    "       , sum(PlayerRatingChange) as RatingChange, count(*) as GamesCount\n",
    "       , sum(ResultWin) as Wins, sum(ResultDraw) as Draws, sum(ResultLose) as Loses\n",
    "    FROM games_pq\n",
    "   WHERE color = 'White' \n",
    "   GROUP BY OpeningFamily, OpeningVariation, OpeningSubvariation\n",
    "   ORDER BY sum(PlayerRatingChange)\n",
    "\"\"\"\n",
    "duckdb.sql(sql)"
   ]
  },
  {
   "cell_type": "code",
   "execution_count": null,
   "metadata": {},
   "outputs": [],
   "source": [
    "# Opening Stats (Black)\n",
    "sql = \"\"\"\n",
    "  SELECT OpeningFamily\n",
    "       , sum(PlayerRatingChange) as RatingChange, count(*) as GamesCount\n",
    "       , sum(ResultWin) as Wins, sum(ResultDraw) as Draws, sum(ResultLose) as Loses\n",
    "    FROM games_pq\n",
    "   WHERE color = 'Black' \n",
    "   GROUP BY OpeningFamily\n",
    "   ORDER BY sum(PlayerRatingChange)\n",
    "\"\"\"\n",
    "duckdb.sql(sql)"
   ]
  },
  {
   "cell_type": "code",
   "execution_count": null,
   "metadata": {},
   "outputs": [],
   "source": [
    "# Opening Stats (Black), including Variation and SubVariations\n",
    "sql = \"\"\"\n",
    "  SELECT OpeningFamily, OpeningVariation, OpeningSubvariation\n",
    "       , sum(PlayerRatingChange) as RatingChange, count(*) as GamesCount\n",
    "       , sum(ResultWin) as Wins, sum(ResultDraw) as Draws, sum(ResultLose) as Loses\n",
    "    FROM games_pq\n",
    "   WHERE color = 'Black' \n",
    "   GROUP BY OpeningFamily, OpeningVariation, OpeningSubvariation\n",
    "   ORDER BY sum(PlayerRatingChange)\n",
    "\"\"\"\n",
    "duckdb.sql(sql)"
   ]
  },
  {
   "cell_type": "code",
   "execution_count": null,
   "metadata": {},
   "outputs": [],
   "source": [
    "# Games against Titled Players\n",
    "sql = \"\"\"\n",
    "  SELECT OpponentTitle\n",
    "       , sum(PlayerRatingChange) as RatingChange, count(*) as GamesCount\n",
    "       , sum(ResultWin) as Wins, sum(ResultDraw) as Draws, sum(ResultLose) as Loses\n",
    "    FROM games_pq\n",
    "   WHERE OpponentTitle is not NULL\n",
    "   GROUP BY OpponentTitle\n",
    "   ORDER BY OpponentTitle\n",
    "\"\"\"\n",
    "duckdb.sql(sql)"
   ]
  }
 ],
 "metadata": {
  "kernelspec": {
   "display_name": ".venv",
   "language": "python",
   "name": "python3"
  },
  "language_info": {
   "codemirror_mode": {
    "name": "ipython",
    "version": 3
   },
   "file_extension": ".py",
   "mimetype": "text/x-python",
   "name": "python",
   "nbconvert_exporter": "python",
   "pygments_lexer": "ipython3",
   "version": "3.13.2"
  }
 },
 "nbformat": 4,
 "nbformat_minor": 2
}
